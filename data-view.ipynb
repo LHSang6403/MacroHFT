{
 "cells": [
  {
   "cell_type": "code",
   "execution_count": 2,
   "metadata": {},
   "outputs": [],
   "source": [
    "import pyarrow.feather as feather\n",
    "import pandas as pd"
   ]
  },
  {
   "cell_type": "code",
   "execution_count": 6,
   "metadata": {},
   "outputs": [],
   "source": [
    "# 220k data\n",
    "coffee_ratings = feather.read_feather(\"./ETHUSDT/df_test.feather\")\n",
    "coffee_ratings.to_csv(\"df_test.csv\")"
   ]
  },
  {
   "cell_type": "code",
   "execution_count": 7,
   "metadata": {},
   "outputs": [],
   "source": [
    "# 555k data\n",
    "coffee_ratings = feather.read_feather(\"./ETHUSDT/df_train.feather\")\n",
    "coffee_ratings.to_csv(\"df_train.csv\")"
   ]
  },
  {
   "cell_type": "code",
   "execution_count": 4,
   "metadata": {},
   "outputs": [],
   "source": [
    "# 172k data\n",
    "coffee_ratings = feather.read_feather(\"./ETHUSDT/df_val.feather\")\n",
    "coffee_ratings.to_csv(\"df_vak.csv\")"
   ]
  },
  {
   "cell_type": "code",
   "execution_count": null,
   "metadata": {},
   "outputs": [],
   "source": [
    "pd = pd.read_csv(\"df_test.csv\")"
   ]
  },
  {
   "cell_type": "code",
   "execution_count": 5,
   "metadata": {},
   "outputs": [
    {
     "name": "stdout",
     "output_type": "stream",
     "text": [
      "   Unnamed: 0            timestamp   ask1_price  ask1_size   bid1_price  \\\n",
      "0           0  2023-06-01 00:00:00  1874.678833  61.088465  1874.668833   \n",
      "1           1  2023-06-01 00:01:00  1874.543667  53.419213  1874.533667   \n",
      "2           2  2023-06-01 00:02:00  1875.658667  50.994758  1875.648667   \n",
      "3           3  2023-06-01 00:03:00  1876.364000  64.241383  1876.354000   \n",
      "4           4  2023-06-01 00:04:00  1875.601167  79.970973  1875.591167   \n",
      "\n",
      "   bid1_size   ask2_price  ask2_size   bid2_price  bid2_size  ...    close  \\\n",
      "0  73.918950  1874.694167  10.087665  1874.650333   8.849172  ...  1874.81   \n",
      "1  56.277742  1874.555667  16.365970  1874.522833   3.975435  ...  1875.25   \n",
      "2  72.332048  1875.682000   7.350947  1875.627000   9.379425  ...  1875.74   \n",
      "3  57.221733  1876.379000  18.752495  1876.334500   7.826763  ...  1875.70   \n",
      "4  56.620792  1875.612333  12.860952  1875.575000   4.815137  ...  1875.62   \n",
      "\n",
      "   kmid  klen     kmid2   kup      kup2  klow     klow2  ksft     ksft2  \n",
      "0  1.18  2.16  0.502666  0.97  0.413209  0.01  0.004260  0.22  0.093717  \n",
      "1  0.44  0.84  0.428213  0.00  0.000000  0.40  0.389285  0.84  0.817498  \n",
      "2  0.49  0.62  0.606756  0.13  0.160976  0.00  0.000000  0.36  0.445780  \n",
      "3 -0.03  1.47 -0.018099  1.44  0.868742  0.00  0.000000 -1.47 -0.886840  \n",
      "4 -0.08  0.42 -0.131674  0.25  0.411481  0.09  0.148133 -0.24 -0.395021  \n",
      "\n",
      "[5 rows x 72 columns]\n"
     ]
    },
    {
     "data": {
      "text/plain": [
       "Index(['Unnamed: 0', 'timestamp', 'ask1_price', 'ask1_size', 'bid1_price',\n",
       "       'bid1_size', 'ask2_price', 'ask2_size', 'bid2_price', 'bid2_size',\n",
       "       'ask3_price', 'ask3_size', 'bid3_price', 'bid3_size', 'ask4_price',\n",
       "       'ask4_size', 'bid4_price', 'bid4_size', 'ask5_price', 'ask5_size',\n",
       "       'bid5_price', 'bid5_size', 'volume', 'bid1_size_n', 'bid2_size_n',\n",
       "       'bid3_size_n', 'bid4_size_n', 'bid5_size_n', 'ask1_size_n',\n",
       "       'ask2_size_n', 'ask3_size_n', 'ask4_size_n', 'ask5_size_n', 'wap_1',\n",
       "       'wap_2', 'wap_balance', 'buy_spread', 'sell_spread', 'buy_volume',\n",
       "       'sell_volume', 'volume_imbalance', 'price_spread', 'sell_vwap',\n",
       "       'buy_vwap', 'log_return_bid1_price', 'log_return_bid2_price',\n",
       "       'log_return_ask1_price', 'log_return_ask2_price', 'log_return_wap_1',\n",
       "       'log_return_wap_2', 'ask1_price_trend_60', 'bid1_price_trend_60',\n",
       "       'buy_spread_trend_60', 'sell_spread_trend_60', 'wap_1_trend_60',\n",
       "       'wap_2_trend_60', 'buy_vwap_trend_60', 'sell_vwap_trend_60',\n",
       "       'volume_trend_60', 'open', 'high', 'low', 'close', 'kmid', 'klen',\n",
       "       'kmid2', 'kup', 'kup2', 'klow', 'klow2', 'ksft', 'ksft2'],\n",
       "      dtype='object')"
      ]
     },
     "execution_count": 5,
     "metadata": {},
     "output_type": "execute_result"
    }
   ],
   "source": [
    "print(pd.head())\n",
    "\n",
    "# Print features\n",
    "\n",
    "pd.columns"
   ]
  },
  {
   "cell_type": "code",
   "execution_count": 1,
   "metadata": {},
   "outputs": [],
   "source": [
    "import numpy as np"
   ]
  },
  {
   "cell_type": "code",
   "execution_count": 5,
   "metadata": {},
   "outputs": [
    {
     "data": {
      "text/plain": [
       "array(['volume', 'bid1_size_n', 'bid2_size_n', 'bid3_size_n',\n",
       "       'bid4_size_n', 'bid5_size_n', 'ask1_size_n', 'ask2_size_n',\n",
       "       'ask3_size_n', 'ask4_size_n', 'ask5_size_n', 'wap_1', 'wap_2',\n",
       "       'wap_balance', 'buy_spread', 'sell_spread', 'buy_volume',\n",
       "       'sell_volume', 'volume_imbalance', 'price_spread', 'sell_vwap',\n",
       "       'buy_vwap', 'log_return_bid1_price', 'log_return_bid2_price',\n",
       "       'log_return_ask1_price', 'log_return_ask2_price',\n",
       "       'log_return_wap_1', 'kmid', 'klen', 'kmid2', 'kup', 'kup2', 'klow',\n",
       "       'klow2', 'ksft', 'ksft2'], dtype='<U21')"
      ]
     },
     "execution_count": 5,
     "metadata": {},
     "output_type": "execute_result"
    }
   ],
   "source": [
    "data = np.load('./feature_list/single_features.npy')\n",
    "data"
   ]
  },
  {
   "cell_type": "code",
   "execution_count": 4,
   "metadata": {},
   "outputs": [
    {
     "data": {
      "text/plain": [
       "array(['ask1_price_trend_60', 'bid1_price_trend_60',\n",
       "       'buy_spread_trend_60', 'sell_spread_trend_60', 'wap_1_trend_60',\n",
       "       'wap_2_trend_60', 'buy_vwap_trend_60', 'sell_vwap_trend_60',\n",
       "       'volume_trend_60'], dtype='<U20')"
      ]
     },
     "execution_count": 4,
     "metadata": {},
     "output_type": "execute_result"
    }
   ],
   "source": [
    "data = np.load('./feature_list/trend_features.npy')\n",
    "data"
   ]
  }
 ],
 "metadata": {
  "kernelspec": {
   "display_name": "Python 3",
   "language": "python",
   "name": "python3"
  },
  "language_info": {
   "codemirror_mode": {
    "name": "ipython",
    "version": 3
   },
   "file_extension": ".py",
   "mimetype": "text/x-python",
   "name": "python",
   "nbconvert_exporter": "python",
   "pygments_lexer": "ipython3",
   "version": "3.11.0"
  }
 },
 "nbformat": 4,
 "nbformat_minor": 2
}
