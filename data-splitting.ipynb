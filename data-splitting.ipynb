{
 "cells": [
  {
   "cell_type": "code",
   "execution_count": 9,
   "metadata": {},
   "outputs": [],
   "source": [
    "import pyarrow.feather as feather\n",
    "import pandas as pd"
   ]
  },
  {
   "cell_type": "code",
   "execution_count": 10,
   "metadata": {},
   "outputs": [],
   "source": [
    "# 220k data\n",
    "coffee_ratings = feather.read_feather(\"./ETHUSDT/df_test.feather\")\n",
    "sampled_data = coffee_ratings.sample(frac=0.03)\n",
    "sampled_data.to_feather(\"df_test.feather\")"
   ]
  },
  {
   "cell_type": "code",
   "execution_count": null,
   "metadata": {},
   "outputs": [],
   "source": [
    "# 555k data original\n",
    "coffee_ratings = feather.read_feather(\"./ETHUSDT/df_train.feather\")\n",
    "sampled_data = coffee_ratings.sample(frac=0.02) # mini data 2% of whole data (local env)\n",
    "sampled_data.to_feather(\"df_train.feather\")"
   ]
  },
  {
   "cell_type": "code",
   "execution_count": 12,
   "metadata": {},
   "outputs": [],
   "source": [
    "# 172k data\n",
    "coffee_ratings = feather.read_feather(\"./ETHUSDT/df_val.feather\")\n",
    "sampled_data = coffee_ratings.sample(frac=0.03)\n",
    "sampled_data.to_feather(\"df_val.feather\")"
   ]
  }
 ],
 "metadata": {
  "kernelspec": {
   "display_name": "Python 3",
   "language": "python",
   "name": "python3"
  },
  "language_info": {
   "codemirror_mode": {
    "name": "ipython",
    "version": 3
   },
   "file_extension": ".py",
   "mimetype": "text/x-python",
   "name": "python",
   "nbconvert_exporter": "python",
   "pygments_lexer": "ipython3",
   "version": "3.11.0"
  }
 },
 "nbformat": 4,
 "nbformat_minor": 2
}
